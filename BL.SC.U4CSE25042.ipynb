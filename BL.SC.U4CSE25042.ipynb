{
 "cells": [
  {
   "cell_type": "code",
   "execution_count": 4,
   "id": "67ddfb57",
   "metadata": {},
   "outputs": [
    {
     "name": "stdout",
     "output_type": "stream",
     "text": [
      "Enter your age: 9\n",
      "Cant vote\n"
     ]
    }
   ],
   "source": [
    "# To check if the person is elgigible for voting or not\n",
    "\n",
    "n=int(input(\"Enter your age: \"))\n",
    "if n>18:\n",
    "    print(\"Can vote\")\n",
    "else:\n",
    "    print(\"Cant vote\")"
   ]
  },
  {
   "cell_type": "code",
   "execution_count": 1,
   "id": "ddd1fc7e",
   "metadata": {},
   "outputs": [
    {
     "name": "stdout",
     "output_type": "stream",
     "text": [
      "Enter the first number: 6\n",
      "Enter the second number: 2\n",
      "b is a factor of a\n"
     ]
    }
   ],
   "source": [
    "# To check if the entered number is a factor of the number\n",
    "\n",
    "\n",
    "a=int(input(\"Enter the first number: \"))\n",
    "b=int(input(\"Enter the second number: \"))\n",
    "if a%b==0:\n",
    "    print(\"b is a factor of a\")\n",
    "else:\n",
    "    print(\"b is not a factor of a\")"
   ]
  },
  {
   "cell_type": "code",
   "execution_count": 2,
   "id": "f777c3fb",
   "metadata": {},
   "outputs": [
    {
     "name": "stdout",
     "output_type": "stream",
     "text": [
      "Enter the number: 67\n",
      "C grade\n"
     ]
    }
   ],
   "source": [
    "# To display grade of student whose total marks are input as a \"m\"\n",
    "\n",
    "\n",
    "m=int(input(\"Enter the number: \"))\n",
    "if 90<m<=100:\n",
    "    print(\"A grade\")\n",
    "elif 70<m<=90:\n",
    "    print(\"B grade\")\n",
    "elif 50<m<=70:\n",
    "    print(\"C grade\")\n",
    "elif m<=50:\n",
    "    print(\"F grade\")"
   ]
  },
  {
   "cell_type": "code",
   "execution_count": 3,
   "id": "af6e9e5f",
   "metadata": {},
   "outputs": [
    {
     "name": "stdout",
     "output_type": "stream",
     "text": [
      "Enter the number: 6\n",
      "The number is positive\n"
     ]
    }
   ],
   "source": [
    "# To check if the entered number is positive, negative or zero\n",
    "\n",
    "\n",
    "n=int(input(\"Enter the number: \"))\n",
    "if n>0:\n",
    "    print(\"The number is positive\")\n",
    "elif n<0:\n",
    "    print(\"The number is negative\")\n",
    "else:\n",
    "    print(\"The number is zero\")"
   ]
  },
  {
   "cell_type": "code",
   "execution_count": null,
   "id": "73dbe830",
   "metadata": {},
   "outputs": [],
   "source": [
    "# Find the Discount based on the input Amount\n",
    "\n",
    "\n",
    "Amount=int(Input(\"Enter Amount: \"))\n",
    "Discount=0\n",
    "if Amount<=1000:\n",
    "    Discount=Amount*0.05\n",
    "elif Amount<=5000:\n",
    "    Discount=Amount*0.1\n",
    "else:\n",
    "    Discount=Amount*0.2\n",
    "print(Discount)"
   ]
  },
  {
   "cell_type": "code",
   "execution_count": 4,
   "id": "f333b0a2",
   "metadata": {},
   "outputs": [
    {
     "name": "stdout",
     "output_type": "stream",
     "text": [
      "Enter the number :-3\n",
      "Prime\n"
     ]
    }
   ],
   "source": [
    "# To check if the entered number is prime or not using break \n",
    "\n",
    "\n",
    "n=int(input(\"Enter the number :\"))\n",
    "flag=0\n",
    "for i in range (2,n):\n",
    "    if n%i==0:\n",
    "        flag=1\n",
    "        break\n",
    "if flag==0:\n",
    "    print(\"Prime\")\n",
    "else:\n",
    "    print(\"Not prime\")\n",
    "        "
   ]
  },
  {
   "cell_type": "code",
   "execution_count": 5,
   "id": "e8e2e944",
   "metadata": {},
   "outputs": [
    {
     "name": "stdout",
     "output_type": "stream",
     "text": [
      "Enter the first number: 2\n",
      "Enter the second number: 5\n",
      "3\n",
      "5\n"
     ]
    }
   ],
   "source": [
    "# To display odd numbers from m to n\n",
    "\n",
    "\n",
    "m=int(input(\"Enter the first number: \"))\n",
    "n=int(input(\"Enter the second number: \"))\n",
    "for i in range(m,n+1):\n",
    "    if i%2!=0:\n",
    "        print(i)"
   ]
  },
  {
   "cell_type": "code",
   "execution_count": 6,
   "id": "1103c98b",
   "metadata": {},
   "outputs": [
    {
     "name": "stdout",
     "output_type": "stream",
     "text": [
      "Enter the number: 23\n",
      "5\n"
     ]
    }
   ],
   "source": [
    "n=int(input(\"Enter the number: \"))\n",
    "sum=0\n",
    "while n>0:\n",
    "    d=n%10\n",
    "    sum+=d\n",
    "    n=n//10\n",
    "print(sum)"
   ]
  },
  {
   "cell_type": "code",
   "execution_count": 9,
   "id": "1461d229",
   "metadata": {},
   "outputs": [
    {
     "name": "stdout",
     "output_type": "stream",
     "text": [
      "Enter the number: 529\n",
      "925\n"
     ]
    }
   ],
   "source": [
    "# To reverse an input integer number\n",
    "\n",
    "n=int(input(\"Enter the number: \"))\n",
    "reverse=0\n",
    "while n>0:\n",
    "    d=n%10\n",
    "    reverse=reverse*10+d\n",
    "    n=n//10\n",
    "print(reverse)"
   ]
  },
  {
   "cell_type": "code",
   "execution_count": 15,
   "id": "f9c31b9c",
   "metadata": {},
   "outputs": [
    {
     "name": "stdout",
     "output_type": "stream",
     "text": [
      "Enter the number: 875\n",
      "Not Amstrong\n"
     ]
    }
   ],
   "source": [
    "# To check if the  the enetered number is amrstrong or not \n",
    "\n",
    "n=int(input(\"Enter the number: \"))\n",
    "temp=n\n",
    "sum=0\n",
    "while n>0:\n",
    "    d=n%10\n",
    "    d=d**3\n",
    "    sum+=d\n",
    "    n=n//10\n",
    "if sum==temp:\n",
    "    print(\"Amstrong number\")\n",
    "else:\n",
    "    print(\"Not Amstrong\")\n",
    "    "
   ]
  },
  {
   "cell_type": "code",
   "execution_count": 19,
   "id": "75305515",
   "metadata": {},
   "outputs": [
    {
     "name": "stdout",
     "output_type": "stream",
     "text": [
      "Enter the number: 11\n",
      "Not a perfect number\n"
     ]
    }
   ],
   "source": [
    "# To check if the entered number is perfect or not\n",
    "\n",
    "n=int(input(\"Enter the number: \"))\n",
    "perfect=0\n",
    "for i in range(1,n):\n",
    "    if n%i==0:\n",
    "        perfect+=i\n",
    "if perfect==n:\n",
    "    print(\"Perfect number\")\n",
    "else:\n",
    "    print(\"Not a perfect number\")\n",
    "        "
   ]
  },
  {
   "cell_type": "code",
   "execution_count": 24,
   "id": "e7897a2b",
   "metadata": {},
   "outputs": [
    {
     "name": "stdout",
     "output_type": "stream",
     "text": [
      "Enter the number: 10\n",
      "55\n"
     ]
    }
   ],
   "source": [
    "# To find the sum of first n numbers\n",
    "\n",
    "n=int(input(\"Enter the number: \"))\n",
    "sum=0\n",
    "for i in range(1,n+1):\n",
    "    sum+=i\n",
    "print(sum)\n",
    "    \n",
    "    "
   ]
  },
  {
   "cell_type": "code",
   "execution_count": 26,
   "id": "d015a459",
   "metadata": {},
   "outputs": [
    {
     "name": "stdout",
     "output_type": "stream",
     "text": [
      "Enter the number: 6\n",
      "720\n"
     ]
    }
   ],
   "source": [
    "# To find the factorial of the entered number\n",
    "\n",
    "n=int(input(\"Enter the number: \"))\n",
    "multiply=1\n",
    "for i in range(1,n+1):\n",
    "    multiply*=i\n",
    "print(multiply)"
   ]
  },
  {
   "cell_type": "code",
   "execution_count": 7,
   "id": "d791823b",
   "metadata": {},
   "outputs": [
    {
     "name": "stdout",
     "output_type": "stream",
     "text": [
      "Enter the number: 16\n",
      "16\n",
      "32\n",
      "48\n",
      "64\n",
      "80\n",
      "96\n",
      "112\n",
      "128\n",
      "144\n",
      "160\n"
     ]
    }
   ],
   "source": [
    "# Displays the table of the entered number\n",
    "\n",
    "\n",
    "n=int(input(\"Enter the number: \"))\n",
    "i=1\n",
    "while i<11:\n",
    "    print(n*i)\n",
    "    i=i+1\n",
    "    \n",
    "\n",
    "    "
   ]
  },
  {
   "cell_type": "code",
   "execution_count": 8,
   "id": "0de68480",
   "metadata": {},
   "outputs": [
    {
     "name": "stdout",
     "output_type": "stream",
     "text": [
      "Enter the number: 787\n",
      "Palindrome number\n"
     ]
    }
   ],
   "source": [
    "# To check if the entered number is a palindrome or not\n",
    "\n",
    "\n",
    "n=int(input(\"Enter the number: \"))\n",
    "reverse=0\n",
    "temp=n\n",
    "while n>0:\n",
    "    d=n%10\n",
    "    reverse=reverse*10+d\n",
    "    n=n//10\n",
    "if reverse==temp:\n",
    "    print(\"Palindrome number\")\n",
    "else:\n",
    "    print(\"Not palindrome\")"
   ]
  },
  {
   "cell_type": "code",
   "execution_count": null,
   "id": "b61b7502",
   "metadata": {},
   "outputs": [],
   "source": [
    "# Problem: Managing Personal Budget\n",
    "\n",
    "# You want to create a simple program that helps you track your monthly income and expenses, and then calculate how much money you have left at the end of the month.\n",
    "\n",
    "# Example Requirements:\n",
    "\n",
    "# Input your total monthly income.\n",
    "\n",
    "# Input multiple expenses (e.g., rent, groceries, utilities, entertainment).\n",
    "\n",
    "# Calculate the total expenses.\n",
    "\n",
    "# Calculate the remaining balance (income - total expenses).\n",
    "\n",
    "# Show a summary report.\n",
    "\n",
    "\n",
    "\n",
    "n=int(input(\"Enter the number of people u want to know the remaining balance: \"))\n",
    "i=1\n",
    "while i<=n:\n",
    "    monthinc=int(input(\"Enter your monthly income: \"))\n",
    "    rentexp=int(input(\"Enter the rent expense: \"))\n",
    "    utilityexp=int(input(\"Enter your utilities expense: \"))\n",
    "    groceryexp=int(input(\"Enter your groceries expense: \"))\n",
    "    entertexp=int(input(\"Enter your entertaintment expense: \"))\n",
    "    totalexp=rentexp+utilityexp+groceryexp+entertexp\n",
    "    remainingbal=monthinc-totalexp\n",
    "    print(\"Your monthly income is: \",monthinc)\n",
    "    print(\"Your total expenditure is: \",totalexp)\n",
    "    print(\"Your remaining balance is: \",remainingbal)\n",
    "    i+=1\n",
    "    \n",
    "    \n"
   ]
  },
  {
   "cell_type": "code",
   "execution_count": null,
   "id": "1049402f",
   "metadata": {},
   "outputs": [],
   "source": []
  }
 ],
 "metadata": {
  "kernelspec": {
   "display_name": "Python 3 (ipykernel)",
   "language": "python",
   "name": "python3"
  },
  "language_info": {
   "codemirror_mode": {
    "name": "ipython",
    "version": 3
   },
   "file_extension": ".py",
   "mimetype": "text/x-python",
   "name": "python",
   "nbconvert_exporter": "python",
   "pygments_lexer": "ipython3",
   "version": "3.11.4"
  }
 },
 "nbformat": 4,
 "nbformat_minor": 5
}
